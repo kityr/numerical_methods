{
 "cells": [
  {
   "cell_type": "markdown",
   "metadata": {},
   "source": [
    "create random augmented matrices for equations"
   ]
  },
  {
   "cell_type": "code",
   "execution_count": 1,
   "metadata": {},
   "outputs": [],
   "source": [
    "import numpy as np\n",
    "np.set_printoptions(precision=3, suppress=True)\n",
    "\n",
    "coeffs10 = np.random.random((10,10))\n",
    "rhs10 = np.random.random((10))\n",
    "\n",
    "coeffs15 = np.random.random((15,15))\n",
    "rhs15 = np.random.random((15))"
   ]
  },
  {
   "cell_type": "markdown",
   "metadata": {},
   "source": [
    "implement triangle method as function"
   ]
  },
  {
   "cell_type": "code",
   "execution_count": 2,
   "metadata": {},
   "outputs": [],
   "source": [
    "def triangle_method(a, b):\n",
    "\n",
    "    n = len(a) #set the number of equations\n",
    "    \n",
    "    for i in range(n): #iterate over rows\n",
    "        \n",
    "        max_el = abs(a[i][i]) #initialize max element and row\n",
    "        max_row = i\n",
    "        \n",
    "        for k in range(i+1, n): #iterate over all rows below i\n",
    "\n",
    "            if abs(a[k][i]) > max_el: \n",
    "\n",
    "                max_el = abs(a[k][i]) #find the max element\n",
    "                max_row = k\n",
    "\n",
    "        a[[i, max_row]] = a[[max_row, i]] #swap the ith row with the found max row\n",
    "        b[i], b[max_row] = b[max_row], b[i]\n",
    "\n",
    "        for k in range(i+1, n): #iterate over below ith row\n",
    "\n",
    "            coefficient = a[k][i]/a[i][i] #find coefficient by which to multiply and then subtract\n",
    "\n",
    "            for j in range(i, n): #do the subtraction\n",
    "\n",
    "                a[k][j] -= coefficient * a[i][j]\n",
    "\n",
    "            b[k] -= coefficient * b[i] #do the same with the right hand side element\n",
    "\n",
    "    \n",
    "    solutions = np.zeros(n) #initialize vector for solutions\n",
    "\n",
    "    for i in range(n-1, -1, -1): #iterate over rows of matrix bottom to top\n",
    "\n",
    "        sum_of_knowns = sum(a[i][j] * solutions[j] for j in range(i+1, n))\n",
    "        solutions[i] = (b[i] - sum_of_knowns) / a[i][i]\n",
    "\n",
    "    return solutions\n"
   ]
  },
  {
   "cell_type": "code",
   "execution_count": 3,
   "metadata": {},
   "outputs": [],
   "source": [
    "triangle10 = triangle_method(coeffs10, rhs10)\n",
    "triangle15 = triangle_method(coeffs15, rhs15)"
   ]
  },
  {
   "cell_type": "markdown",
   "metadata": {},
   "source": [
    "check using numpy"
   ]
  },
  {
   "cell_type": "code",
   "execution_count": 4,
   "metadata": {},
   "outputs": [],
   "source": [
    "numpy10 = np.linalg.solve(coeffs10, rhs10)\n",
    "numpy15 = np.linalg.solve(coeffs15, rhs15)"
   ]
  },
  {
   "cell_type": "markdown",
   "metadata": {},
   "source": [
    "compare"
   ]
  },
  {
   "cell_type": "code",
   "execution_count": 5,
   "metadata": {},
   "outputs": [
    {
     "name": "stdout",
     "output_type": "stream",
     "text": [
      "   triangle method     numpy  difference\n",
      "0         0.520390  0.520390         0.0\n",
      "1         0.385887  0.385887         0.0\n",
      "2        -0.688185 -0.688185        -0.0\n",
      "3        -0.309680 -0.309680        -0.0\n",
      "4        -0.702275 -0.702275         0.0\n",
      "5         0.533134  0.533134        -0.0\n",
      "6        -0.743597 -0.743597        -0.0\n",
      "7         0.812342  0.812342         0.0\n",
      "8         1.319777  1.319777         0.0\n",
      "9        -0.373489 -0.373489         0.0\n"
     ]
    }
   ],
   "source": [
    "import pandas as pd\n",
    "\n",
    "result10 = pd.DataFrame(\n",
    "    {\n",
    "        'triangle method' : triangle10,\n",
    "        'numpy' : numpy10,\n",
    "        'difference' : triangle10 - numpy10\n",
    "    }\n",
    ").round(6)\n",
    "\n",
    "print(result10)"
   ]
  },
  {
   "cell_type": "code",
   "execution_count": 6,
   "metadata": {},
   "outputs": [
    {
     "name": "stdout",
     "output_type": "stream",
     "text": [
      "    triangle method     numpy  difference\n",
      "0          3.630877  3.630877         0.0\n",
      "1          1.646636  1.646636        -0.0\n",
      "2          1.852736  1.852736         0.0\n",
      "3         -3.011062 -3.011062         0.0\n",
      "4         -1.675539 -1.675539        -0.0\n",
      "5         -3.671441 -3.671441        -0.0\n",
      "6          5.990382  5.990382         0.0\n",
      "7         -1.937617 -1.937617        -0.0\n",
      "8          2.416296  2.416296         0.0\n",
      "9         -5.007960 -5.007960        -0.0\n",
      "10        -1.275793 -1.275793        -0.0\n",
      "11         6.409437  6.409437         0.0\n",
      "12        -3.182818 -3.182818        -0.0\n",
      "13         1.604961  1.604961         0.0\n",
      "14        -3.815720 -3.815720        -0.0\n"
     ]
    }
   ],
   "source": [
    "result15 = pd.DataFrame(\n",
    "    {\n",
    "        'triangle method' : triangle15,\n",
    "        'numpy' : numpy15,\n",
    "        'difference' : triangle15 - numpy15\n",
    "    }\n",
    ").round(6)\n",
    "\n",
    "print(result15)"
   ]
  }
 ],
 "metadata": {
  "kernelspec": {
   "display_name": "venv",
   "language": "python",
   "name": "python3"
  },
  "language_info": {
   "codemirror_mode": {
    "name": "ipython",
    "version": 3
   },
   "file_extension": ".py",
   "mimetype": "text/x-python",
   "name": "python",
   "nbconvert_exporter": "python",
   "pygments_lexer": "ipython3",
   "version": "3.11.9"
  }
 },
 "nbformat": 4,
 "nbformat_minor": 2
}
