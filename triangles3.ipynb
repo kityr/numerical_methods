{
 "cells": [
  {
   "cell_type": "code",
   "execution_count": 16,
   "metadata": {},
   "outputs": [],
   "source": [
    "import numpy as np\n",
    "np.set_printoptions(precision=3, suppress=True)\n",
    "\n",
    "coeffs10 = np.random.random((10,10))\n",
    "rhs10 = np.random.random((10))\n",
    "\n",
    "coeffs15 = np.random.random((15,15))\n",
    "rhs15 = np.random.random((15))"
   ]
  },
  {
   "cell_type": "code",
   "execution_count": 17,
   "metadata": {},
   "outputs": [],
   "source": [
    "import numpy as np\n",
    "\n",
    "def lu_decomposition(a, b):\n",
    "    n = len(a)\n",
    "    L = np.zeros((n,n))\n",
    "    U = np.zeros((n,n))\n",
    "\n",
    "    # LU Decomposition\n",
    "    for i in range(n):\n",
    "        for k in range(i, n):\n",
    "            sum = 0\n",
    "            for j in range(i):\n",
    "                sum += (L[i][j] * U[j][k])\n",
    "            U[i][k] = a[i][k] - sum\n",
    "        for k in range(i, n):\n",
    "            if (i == k):\n",
    "                L[i][i] = 1  # Diagonal as 1\n",
    "            else:\n",
    "                sum = 0\n",
    "                for j in range(i):\n",
    "                    sum += (L[k][j] * U[j][i])\n",
    "                L[k][i] = (a[k][i] - sum) / U[i][i]\n",
    "\n",
    "    # LU Solver\n",
    "    y = np.zeros(n)\n",
    "    for i in range(n):\n",
    "        sum = 0\n",
    "        for j in range(i):\n",
    "            sum += L[i][j] * y[j]\n",
    "        y[i] = (b[i] - sum) / L[i][i]\n",
    "\n",
    "    x = np.zeros(n)\n",
    "    for i in range(n-1, -1, -1):\n",
    "        sum = 0\n",
    "        for j in range(i+1, n):\n",
    "            sum += U[i][j] * x[j]\n",
    "        x[i] = (y[i] - sum) / U[i][i]\n",
    "\n",
    "    return x\n"
   ]
  },
  {
   "cell_type": "code",
   "execution_count": 18,
   "metadata": {},
   "outputs": [],
   "source": [
    "lu10 = lu_decomposition(coeffs10, rhs10)\n",
    "lu15 = lu_decomposition(coeffs15, rhs15)\n",
    "\n",
    "numpy10 = np.linalg.solve(coeffs10, rhs10)\n",
    "numpy15 = np.linalg.solve(coeffs15, rhs15)"
   ]
  },
  {
   "cell_type": "code",
   "execution_count": 19,
   "metadata": {},
   "outputs": [
    {
     "name": "stdout",
     "output_type": "stream",
     "text": [
      "   triangle method     numpy  difference\n",
      "0         2.147799  2.147799        -0.0\n",
      "1         2.048251  2.048251        -0.0\n",
      "2         1.242483  1.242483        -0.0\n",
      "3         0.243110  0.243110        -0.0\n",
      "4        -3.071983 -3.071983         0.0\n",
      "5        -1.119426 -1.119426         0.0\n",
      "6        -0.366154 -0.366154         0.0\n",
      "7        -0.713587 -0.713587         0.0\n",
      "8         1.473761  1.473761        -0.0\n",
      "9        -0.269436 -0.269436        -0.0\n"
     ]
    }
   ],
   "source": [
    "import pandas as pd\n",
    "\n",
    "result10 = pd.DataFrame(\n",
    "    {\n",
    "        'triangle method' : lu10,\n",
    "        'numpy' : numpy10,\n",
    "        'difference' : lu10 - numpy10\n",
    "    }\n",
    ").round(6)\n",
    "\n",
    "print(result10)"
   ]
  },
  {
   "cell_type": "code",
   "execution_count": 20,
   "metadata": {},
   "outputs": [
    {
     "name": "stdout",
     "output_type": "stream",
     "text": [
      "    triangle method     numpy  difference\n",
      "0          2.848476  2.848476        -0.0\n",
      "1         -0.892113 -0.892113         0.0\n",
      "2          1.445508  1.445508        -0.0\n",
      "3          0.785767  0.785767        -0.0\n",
      "4          0.076125  0.076125         0.0\n",
      "5          1.179430  1.179430        -0.0\n",
      "6          0.271464  0.271464        -0.0\n",
      "7         -1.303577 -1.303577         0.0\n",
      "8         -1.573133 -1.573133        -0.0\n",
      "9         -1.424012 -1.424012         0.0\n",
      "10        -1.051500 -1.051500         0.0\n",
      "11        -0.671066 -0.671066         0.0\n",
      "12        -1.726069 -1.726069         0.0\n",
      "13         1.917097  1.917097        -0.0\n",
      "14         1.785093  1.785093        -0.0\n"
     ]
    }
   ],
   "source": [
    "result15 = pd.DataFrame(\n",
    "    {\n",
    "        'triangle method' : lu15,\n",
    "        'numpy' : numpy15,\n",
    "        'difference' : lu15 - numpy15\n",
    "    }\n",
    ").round(6)\n",
    "\n",
    "print(result15)"
   ]
  }
 ],
 "metadata": {
  "kernelspec": {
   "display_name": "venv",
   "language": "python",
   "name": "python3"
  },
  "language_info": {
   "codemirror_mode": {
    "name": "ipython",
    "version": 3
   },
   "file_extension": ".py",
   "mimetype": "text/x-python",
   "name": "python",
   "nbconvert_exporter": "python",
   "pygments_lexer": "ipython3",
   "version": "3.11.9"
  }
 },
 "nbformat": 4,
 "nbformat_minor": 2
}
